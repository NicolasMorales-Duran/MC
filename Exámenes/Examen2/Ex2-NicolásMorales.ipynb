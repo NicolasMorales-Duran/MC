{
 "cells": [
  {
   "cell_type": "code",
   "execution_count": 44,
   "metadata": {
    "collapsed": true
   },
   "outputs": [],
   "source": [
    "import numpy as np\n",
    "import matplotlib.pyplot as plt\n",
    "from scipy.fftpack import ifft, fft, fftfreq\n",
    "from scipy.io import wavfile\n",
    "%matplotlib inline"
   ]
  },
  {
   "cell_type": "markdown",
   "metadata": {},
   "source": [
    "Punto 1"
   ]
  },
  {
   "cell_type": "code",
   "execution_count": 45,
   "metadata": {
    "collapsed": false
   },
   "outputs": [],
   "source": [
    "arc = np.genfromtxt(\"ring.dft\",dtype=np.complex64) #Guardamos los datos\n",
    "ifty=ifft(arc) #Hacemos la transformada inversa de Fourier\n",
    "ifty1=np.int16(ifty.real) #Convertimos a un arreglo de enteros \n",
    "wavfile.write(\"canc.wav\",22050,ifty1) #Exportamos el resultado"
   ]
  },
  {
   "cell_type": "markdown",
   "metadata": {},
   "source": [
    "Punto 2"
   ]
  },
  {
   "cell_type": "code",
   "execution_count": 46,
   "metadata": {
    "collapsed": false
   },
   "outputs": [],
   "source": [
    "def f (archivo): #Definimos una función que recibe por parámetro un arreglo y duplica su longitud interpolando valores intermedios \n",
    "    N=len(archivo)\n",
    "    new = [(archivo[i+1]-archivo[i])/2. for i in range (N-1)] #Creamos arreglo con el doble de la longitud\n",
    "    archivo1 = [archivo [0]] #Añadimos el primer dato a un nuevo arreglo\n",
    "    for i in range (len(new)): #Añadimos el resto de los datos\n",
    "        archivo1.append(archivo[i]+new[i])\n",
    "        archivo1.append(archivo[i+1])\n",
    "    return archivo1"
   ]
  },
  {
   "cell_type": "markdown",
   "metadata": {},
   "source": [
    "Punto 3"
   ]
  },
  {
   "cell_type": "code",
   "execution_count": 47,
   "metadata": {
    "collapsed": false
   },
   "outputs": [],
   "source": [
    "x = ifty.real \n",
    "ar1 = f(x) #Aplicamos la función que duplica la longitud\n",
    "M = len(ar1)\n",
    "ar2 = [ar1[i]*(1 - float(i)/M) for i in range (M)] #Aplicamos la rampa de volumen que consiste en multiplicar por una función lineal apropiada el arreglo, que en 0 toma el valor 1 y en el último valor del arreglo se anula     \n",
    "ar3 = np.int16(ar2) #Convertimos a un arreglo de enteros\n",
    "wavfile.write(\"canc1.wav\",22050,ar3)#Exportamos el resultado"
   ]
  },
  {
   "cell_type": "code",
   "execution_count": 48,
   "metadata": {
    "collapsed": false
   },
   "outputs": [
    {
     "name": "stdout",
     "output_type": "stream",
     "text": [
      "124395\n",
      "248789\n"
     ]
    }
   ],
   "source": [
    "print len(ifty.real)\n",
    "print len(ar1)"
   ]
  },
  {
   "cell_type": "markdown",
   "metadata": {},
   "source": [
    "Vemos que en efecto la función f duplica la longitud del arreglo"
   ]
  }
 ],
 "metadata": {
  "kernelspec": {
   "display_name": "Python 2",
   "language": "python",
   "name": "python2"
  },
  "language_info": {
   "codemirror_mode": {
    "name": "ipython",
    "version": 2
   },
   "file_extension": ".py",
   "mimetype": "text/x-python",
   "name": "python",
   "nbconvert_exporter": "python",
   "pygments_lexer": "ipython2",
   "version": "2.7.10"
  }
 },
 "nbformat": 4,
 "nbformat_minor": 0
}

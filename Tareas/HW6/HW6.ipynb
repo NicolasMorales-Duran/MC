{
 "cells": [
  {
   "cell_type": "code",
   "execution_count": 1,
   "metadata": {
    "collapsed": true
   },
   "outputs": [],
   "source": [
    "import matplotlib.pyplot as plt\n",
    "from sympy import *\n",
    "init_printing(use_unicode = True) # Herramientas necesarias para hacer cálculos simbólicos."
   ]
  },
  {
   "cell_type": "code",
   "execution_count": 2,
   "metadata": {
    "collapsed": false
   },
   "outputs": [],
   "source": [
    "# Función que devuelve la interpolación de lagrage para un número N de puntos de forma simbólica.\n",
    "def lagrange(N):\n",
    "    f = symarray('f',N) # Símbolos f_i a utilizar.\n",
    "    t = symarray('t',N) # Simbolos t_i a utilizar.\n",
    "    real_t = symbols('t') # Símbolo t que representa la vairable de la función.\n",
    "    po = 0 # Inicialización del polinomio de Lagrange correspondiente. Más abajo se añaden los términos pertinentes.\n",
    "    for i in range(N):\n",
    "        mult = 1 # Término que multiplica a cada uno de los símbolos f_i en la expresión del polinomio.\n",
    "        for j in range(N):\n",
    "            if(i!=j):\n",
    "                mult *=(real_t - t[j])/(t[i] - t[j]) # Se multiplica cada término por individual.\n",
    "        po += f[i]*mult # En cada iteración se suma al polinomio el símbolo f_i multiplicado por el término \n",
    "                        # correspondiente.\n",
    "    return po"
   ]
  },
  {
   "cell_type": "code",
   "execution_count": 3,
   "metadata": {
    "collapsed": false
   },
   "outputs": [
    {
     "data": {
      "image/png": "[encoded data removed]",
      "text/latex": [
       "$$\\frac{f_{0} \\left(t - t_{1}\\right) \\left(t - t_{2}\\right)}{\\left(t_{0} - t_{1}\\right) \\left(t_{0} - t_{2}\\right)} + \\frac{f_{1} \\left(t - t_{0}\\right) \\left(t - t_{2}\\right)}{\\left(- t_{0} + t_{1}\\right) \\left(t_{1} - t_{2}\\right)} + \\frac{f_{2} \\left(t - t_{0}\\right) \\left(t - t_{1}\\right)}{\\left(- t_{0} + t_{2}\\right) \\left(- t_{1} + t_{2}\\right)}$$"
      ],
      "text/plain": [
       "f₀⋅(t - t₁)⋅(t - t₂)   f₁⋅(t - t₀)⋅(t - t₂)    f₂⋅(t - t₀)⋅(t - t₁)\n",
       "──────────────────── + ──────────────────── + ─────────────────────\n",
       "(t₀ - t₁)⋅(t₀ - t₂)    (-t₀ + t₁)⋅(t₁ - t₂)   (-t₀ + t₂)⋅(-t₁ + t₂)"
      ]
     },
     "execution_count": 3,
     "metadata": {},
     "output_type": "execute_result"
    }
   ],
   "source": [
    "lagrange(3)"
   ]
  },
  {
   "cell_type": "code",
   "execution_count": 4,
   "metadata": {
    "collapsed": false
   },
   "outputs": [],
   "source": [
    "def adams(N):\n",
    "    h = symbols('h') # Intervalo de tiempo a utilizar en la integración simbólica.\n",
    "    t = symarray('t',N) # Simbolos t_i a utilizar.\n",
    "    real_t = symbols('t') # Variable de la integración symbólica.\n",
    "    po = lagrange(N) # Polinomio de lagrange, que se utiliza en la integración.\n",
    "    for i in range(N):\n",
    "        po = po.subs(t[i],t[0]-i*h) # Se sustituye cada t_i por lo indicado en el enunciado de la tarea. Se tuvo \n",
    "                                    # en cuenta la información acerca de sustitución simbólica de \n",
    "                                    # http://docs.sympy.org/dev/tutorial/basic_operations.html\n",
    "    return simplify(integrate(po,(real_t,t[0],t[0]+h))) # Se integra y simplifica el polinomio correspondiente."
   ]
  },
  {
   "cell_type": "code",
   "execution_count": 5,
   "metadata": {
    "collapsed": false
   },
   "outputs": [
    {
     "data": {
      "image/png": "[encoded data removed]",
      "text/latex": [
       "$$\\frac{h}{12} \\left(23 f_{0} - 16 f_{1} + 5 f_{2}\\right)$$"
      ],
      "text/plain": [
       "h⋅(23⋅f₀ - 16⋅f₁ + 5⋅f₂)\n",
       "────────────────────────\n",
       "           12           "
      ]
     },
     "execution_count": 5,
     "metadata": {},
     "output_type": "execute_result"
    }
   ],
   "source": [
    "adams(3)"
   ]
  },
  {
   "cell_type": "code",
   "execution_count": null,
   "metadata": {
    "collapsed": true
   },
   "outputs": [],
   "source": []
  }
 ],
 "metadata": {
  "kernelspec": {
   "display_name": "Python 2",
   "language": "python",
   "name": "python2"
  },
  "language_info": {
   "codemirror_mode": {
    "name": "ipython",
    "version": 2
   },
   "file_extension": ".py",
   "mimetype": "text/x-python",
   "name": "python",
   "nbconvert_exporter": "python",
   "pygments_lexer": "ipython2",
   "version": "2.7.9"
  }
 },
 "nbformat": 4,
 "nbformat_minor": 0
}

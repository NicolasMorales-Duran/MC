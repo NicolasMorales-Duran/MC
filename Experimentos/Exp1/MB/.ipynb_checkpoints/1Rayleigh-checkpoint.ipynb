{
 "cells": [
  {
   "cell_type": "markdown",
   "metadata": {},
   "source": [
    "# Introducción"
   ]
  },
  {
   "cell_type": "markdown",
   "metadata": {},
   "source": [
    "El potencial de Liennard Jones es un modelo matemático simple que describe la interacción entre pares de átomos o moléculas neutrales. Su expresión más general es \n",
    "\n",
    "\\begin{equation}\n",
    "\\large \n",
    "V_{LJ}= 4\\epsilon[(\\frac{\\sigma}{r})^{12}-(\\frac{\\sigma}{r})^{6}]\n",
    "\\end{equation}\n",
    "\n",
    "En este experimento se pretende trabajar con una simulación de un gas de partículas que interactúan bajo el potencial $V_{LJ}$. La simulación se realiza con base en un software del libro *The Art of Molecular Dynamics Simulation de Rapaport*, considerando que las velocidades iniciales de las partículas tienen una distribución uniforme y tomando sus posiciones iniciales en una cuadrícula.\n",
    "\n",
    "Teniendo en cuenta lo anterior, el propósito de este experimento es verificar que, en equilibrio termodinámico, la distribución de rapideces de las partículas del gas es adecuadamente descrita por la distribución de Rayleigh, la cual se observa frecuentemente cuando la magnitud total de un vector está relacionada con sus componentes direcionales. Dicha distribución está dada por:\n",
    "\n",
    "\\begin{equation}\n",
    "\\large\n",
    "f(x,\\sigma) = \\left(\\frac{x}{\\sigma^2}\\right)e^{\\left(\\frac{-x²}{2\\sigma²}\\right)}\n",
    "\\end{equation}\n",
    "\n",
    "Para las siguientes secciones se usarán herramientas como `curve_fit`, `hist`, `animate`, entre otras."
   ]
  },
  {
   "cell_type": "markdown",
   "metadata": {},
   "source": [
    "# Análisis de datos"
   ]
  },
  {
   "cell_type": "markdown",
   "metadata": {},
   "source": [
    "Teniendo en cuenta la información anterior, se realiza un histograma de los datos de las rapideces, conjuntamente con una regresión no lineal para ver si los datos se ajustan o no a la distribución de Rayleigh. Solo se tienen en cuenta los últimos 1600 datos de la simulación puesto que se asume que para estos datos el sistema ya ha alcanzado el equilibrio."
   ]
  },
  {
   "cell_type": "code",
   "execution_count": 6,
   "metadata": {
    "collapsed": false
   },
   "outputs": [
    {
     "name": "stdout",
     "output_type": "stream",
     "text": [
      "Using matplotlib backend: MacOSX\n"
     ]
    }
   ],
   "source": [
    "import numpy as np\n",
    "import matplotlib.pyplot as plt\n",
    "import matplotlib.animation as animation\n",
    "from scipy.optimize import curve_fit\n",
    "%matplotlib "
   ]
  },
  {
   "cell_type": "code",
   "execution_count": 7,
   "metadata": {
    "collapsed": false
   },
   "outputs": [],
   "source": [
    "doc = np.genfromtxt(\"Rayleigh.csv\",delimiter=\",\")\n",
    "x = np.array(doc[:,0])\n",
    "y = np.array(doc[:,1])\n",
    "vx = np.array(doc[:,2])\n",
    "vy = np.array(doc[:,3])"
   ]
  },
  {
   "cell_type": "code",
   "execution_count": 4,
   "metadata": {
    "collapsed": false
   },
   "outputs": [],
   "source": [
    "velocities = np.array(np.sqrt(vx[:]**2 + vy[:]**2))"
   ]
  },
  {
   "cell_type": "code",
   "execution_count": 9,
   "metadata": {
    "collapsed": false
   },
   "outputs": [
    {
     "name": "stdout",
     "output_type": "stream",
     "text": [
      "Using matplotlib backend: MacOSX\n"
     ]
    }
   ],
   "source": [
    "%matplotlib\n",
    "\n",
    "fig = plt.figure()\n",
    "\n",
    "# ims is a list of lists, each row is a list of artists to draw in the\n",
    "# current frame; here we are just animating one artist, the image, in\n",
    "# each frame\n",
    "ims = []\n",
    "for i in range(251):\n",
    "    im = plt.plot(x[i*1600:(i+1)*1600],y[i*1600:(i+1)*1600],'ko')\n",
    "    ims.append(im)\n",
    "\n",
    "ani = animation.ArtistAnimation(fig, ims, interval=100, blit=True,repeat_delay=1000)\n",
    "\n",
    "#ani.save('dynamic_images.mp4')\n",
    "\n",
    "\n",
    "plt.show()"
   ]
  },
  {
   "cell_type": "code",
   "execution_count": null,
   "metadata": {
    "collapsed": true
   },
   "outputs": [],
   "source": []
  }
 ],
 "metadata": {
  "kernelspec": {
   "display_name": "Python 2",
   "language": "python",
   "name": "python2"
  },
  "language_info": {
   "codemirror_mode": {
    "name": "ipython",
    "version": 2
   },
   "file_extension": ".py",
   "mimetype": "text/x-python",
   "name": "python",
   "nbconvert_exporter": "python",
   "pygments_lexer": "ipython2",
   "version": "2.7.10"
  }
 },
 "nbformat": 4,
 "nbformat_minor": 0
}

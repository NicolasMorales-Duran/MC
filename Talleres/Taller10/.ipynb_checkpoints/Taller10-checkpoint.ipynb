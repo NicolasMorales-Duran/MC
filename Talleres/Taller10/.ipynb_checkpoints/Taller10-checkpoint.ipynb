{
 "cells": [
  {
   "cell_type": "code",
   "execution_count": 1,
   "metadata": {
    "collapsed": true
   },
   "outputs": [],
   "source": [
    "import numpy as np\n",
    "import matplotlib.pyplot as plt\n",
    "%matplotlib inline"
   ]
  },
  {
   "cell_type": "code",
   "execution_count": 7,
   "metadata": {
    "collapsed": true
   },
   "outputs": [],
   "source": [
    "N=20 #Red cúbica de 20x20x20, anadimos una dimensión al ejemplo del modelo de ising en 3D.\n",
    "lattice=np.ones((N,N,N))\n",
    "T=10. \n",
    "beta=1./T\n",
    "def total_energy(): \n",
    "    global lattice\n",
    "    return -sum(sum(sum(lattice*(np.roll(lattice,1,axis=1)+\\\n",
    "                             np.roll(lattice,-1,axis=1)+\\\n",
    "                             np.roll(lattice,1,axis=0)+\\\n",
    "                             np.roll(lattice,-1,axis=0)+\\\n",
    "                             np.roll(lattice,1,axis=2)+\\\n",
    "                             np.roll(lattice,-1,axis=2)\n",
    "                            )))) \n",
    "def block_energy(i,j,k):\n",
    "    global lattice\n",
    "    global N\n",
    "    return -(lattice[i,j,k]*(lattice[(i-1)%N,j,k]+\\\n",
    "                                  lattice[(i+1)%N,j,k]+\\\n",
    "                                  lattice[i,(j+1)%N,k]+\\\n",
    "                                  lattice[i,(j-1)%N,k]+\\\n",
    "                                  lattice[i,j,(k+1)%N]+\\\n",
    "                                  lattice[i,j,(k-1)%N])) \n",
    "def flipone():\n",
    "    global lattice\n",
    "    global beta\n",
    "    global N\n",
    "    # Pick a random site\n",
    "    nx, ny, nz= np.random.randint(0,N),np.random.randint(0,N),np.random.randint(0,N)                                                                                                                                                             \n",
    "    # Calculate current energy of site and neighbors\n",
    "    en_i=block_energy(nx,ny,nz)\n",
    "    # If it were flipped\n",
    "    en_f=-en_i\n",
    "    if en_f<en_i: # This could be simplified\n",
    "        lattice[nx,ny,nz]*=-1\n",
    "    elif np.random.random()<min(1,np.exp(-beta*(en_f-en_i))):\n",
    "        lattice[nx,ny,nz]*=-1 \n",
    "\n",
    "def magnetization():\n",
    "    global lattice\n",
    "    global N\n",
    "    return sum(sum(sum(lattice)))/N**3"
   ]
  },
  {
   "cell_type": "code",
   "execution_count": 8,
   "metadata": {
    "collapsed": false
   },
   "outputs": [
    {
     "data": {
      "text/plain": [
       "1.0"
      ]
     },
     "execution_count": 8,
     "metadata": {},
     "output_type": "execute_result"
    }
   ],
   "source": [
    "magnetization() "
   ]
  },
  {
   "cell_type": "code",
   "execution_count": 9,
   "metadata": {
    "collapsed": false
   },
   "outputs": [
    {
     "name": "stdout",
     "output_type": "stream",
     "text": [
      "1.0 1.17948717949 1.35897435897 1.53846153846 1.71794871795 1.89743589744 2.07692307692 2.25641025641 2.4358974359 2.61538461538 2.79487179487 2.97435897436 3.15384615385 3.33333333333 3.51282051282 3.69230769231 3.87179487179 4.05128205128 4.23076923077 4.41025641026 4.58974358974 4.76923076923 4.94871794872 5.12820512821 5.30769230769 5.48717948718 5.66666666667 5.84615384615 6.02564102564 6.20512820513 6.38461538462 6.5641025641 6.74358974359 6.92307692308 7.10256410256 7.28205128205 7.46153846154 7.64102564103 7.82051282051 8.0\n"
     ]
    }
   ],
   "source": [
    "magnetizaciones=[] \n",
    "lattice=np.ones((N,N,N))\n",
    "numIter=10**6 #Número de iteraciones \n",
    "for temp in np.linspace(1.,8.,40):\n",
    "    print temp,\n",
    "    T=temp\n",
    "    beta=1./T\n",
    "    mag=[]\n",
    "    for i in range(numIter):\n",
    "        flipone()\n",
    "        if i>numIter-10: #Solo se toman los últimos 10 valores de temperatura.\n",
    "            mag.append(magnetization())\n",
    "    magnetizaciones.append([T,np.mean(mag)])\n",
    "magnetizaciones=np.array(magnetizaciones)"
   ]
  },
  {
   "cell_type": "code",
   "execution_count": 12,
   "metadata": {
    "collapsed": false
   },
   "outputs": [
    {
     "data": {
      "image/png": "[encoded data removed]",
      "text/plain": [
       "<matplotlib.figure.Figure at 0x10894f0d0>"
      ]
     },
     "metadata": {},
     "output_type": "display_data"
    }
   ],
   "source": [
    "#Hacemos la gráfica para la magnetización en función de la temperatura\n",
    "plt.figure(figsize=(10,6))\n",
    "plt.plot(magnetizaciones[:,0],magnetizaciones[:,1],\"o-\")\n",
    "plt.xlabel(\"T\")\n",
    "plt.ylabel(\"M\")\n",
    "plt.title(u\"Magnetización en el Modelo de Ising 3D\" ) \n",
    "plt.ylim(-0.2,1.2)\n",
    "plt.axvline(4.51, color='green')\n",
    "plt.axhline(0., color = 'k')\n",
    "plt.show()"
   ]
  },
  {
   "cell_type": "code",
   "execution_count": null,
   "metadata": {
    "collapsed": true
   },
   "outputs": [],
   "source": []
  }
 ],
 "metadata": {
  "kernelspec": {
   "display_name": "Python 2",
   "language": "python",
   "name": "python2"
  },
  "language_info": {
   "codemirror_mode": {
    "name": "ipython",
    "version": 2
   },
   "file_extension": ".py",
   "mimetype": "text/x-python",
   "name": "python",
   "nbconvert_exporter": "python",
   "pygments_lexer": "ipython2",
   "version": "2.7.10"
  }
 },
 "nbformat": 4,
 "nbformat_minor": 0
}
